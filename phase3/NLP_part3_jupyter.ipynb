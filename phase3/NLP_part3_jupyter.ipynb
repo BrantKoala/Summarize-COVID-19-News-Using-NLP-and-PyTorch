{
 "cells": [
  {
   "cell_type": "code",
   "execution_count": 1,
   "id": "244e67ef",
   "metadata": {},
   "outputs": [],
   "source": [
    "import json\n",
    "\n",
    "from rouge_score import rouge_scorer"
   ]
  },
  {
   "cell_type": "code",
   "execution_count": 2,
   "id": "3cb54e8b",
   "metadata": {},
   "outputs": [],
   "source": [
    "def read_input(filename='evaluation_input.txt'):\n",
    "    input_pair = []\n",
    "    with open(filename) as fp:\n",
    "        for line in fp:\n",
    "            temp = []\n",
    "            # print(line)\n",
    "            res = line.split(',')\n",
    "            # print(res[0], res[1], sep=\"\\n\", end=\"\\n\" * 2)\n",
    "            temp.append(res[0].rstrip('\\n').strip())\n",
    "            temp.append(res[1].rstrip('\\n<EOS>').strip())\n",
    "            # print(temp)\n",
    "            input_pair.append(temp)\n",
    "    return input_pair"
   ]
  },
  {
   "cell_type": "code",
   "execution_count": 3,
   "id": "556ff2aa",
   "metadata": {},
   "outputs": [],
   "source": [
    "def write_score(scores):\n",
    "    # write scores to a file. This file is the out of this milestone\n",
    "    with open('score.txt', 'w') as out:\n",
    "        for i in scores:\n",
    "            out.write(json.dumps(i))\n",
    "            out.write(\"\\n\")\n",
    "\n",
    "\n",
    "def scoring(input_pair):\n",
    "    scorer = rouge_scorer.RougeScorer(['rouge1'], use_stemmer=True)\n",
    "    scores = []\n",
    "    for pair in input_pair:\n",
    "        score = scorer.score(pair[0], pair[1])\n",
    "        print(score)\n",
    "        scores.append(score)\n",
    "    write_score(scores)"
   ]
  },
  {
   "cell_type": "code",
   "execution_count": 4,
   "id": "b4d5dc3b",
   "metadata": {},
   "outputs": [
    {
     "name": "stdout",
     "output_type": "stream",
     "text": [
      "{'rouge1': Score(precision=0.0, recall=0.0, fmeasure=0.0)}\n",
      "{'rouge1': Score(precision=0.0, recall=0.0, fmeasure=0.0)}\n",
      "{'rouge1': Score(precision=0.0, recall=0.0, fmeasure=0.0)}\n",
      "{'rouge1': Score(precision=1.0, recall=0.16666666666666666, fmeasure=0.2857142857142857)}\n",
      "{'rouge1': Score(precision=0.0, recall=0.0, fmeasure=0.0)}\n",
      "{'rouge1': Score(precision=0.0, recall=0.0, fmeasure=0.0)}\n",
      "{'rouge1': Score(precision=0.0, recall=0.0, fmeasure=0.0)}\n",
      "{'rouge1': Score(precision=0.0, recall=0.0, fmeasure=0.0)}\n",
      "{'rouge1': Score(precision=1.0, recall=0.125, fmeasure=0.2222222222222222)}\n",
      "{'rouge1': Score(precision=0.0, recall=0.0, fmeasure=0.0)}\n",
      "{'rouge1': Score(precision=0.3333333333333333, recall=0.25, fmeasure=0.28571428571428575)}\n",
      "{'rouge1': Score(precision=0.4, recall=0.2857142857142857, fmeasure=0.3333333333333333)}\n",
      "{'rouge1': Score(precision=0.2, recall=0.14285714285714285, fmeasure=0.16666666666666666)}\n",
      "{'rouge1': Score(precision=0.2, recall=0.14285714285714285, fmeasure=0.16666666666666666)}\n",
      "{'rouge1': Score(precision=0.3333333333333333, recall=0.1111111111111111, fmeasure=0.16666666666666666)}\n",
      "{'rouge1': Score(precision=0.2, recall=0.16666666666666666, fmeasure=0.1818181818181818)}\n",
      "{'rouge1': Score(precision=0.2, recall=0.125, fmeasure=0.15384615384615385)}\n",
      "{'rouge1': Score(precision=0.3333333333333333, recall=0.16666666666666666, fmeasure=0.2222222222222222)}\n",
      "{'rouge1': Score(precision=0.0, recall=0.0, fmeasure=0.0)}\n",
      "{'rouge1': Score(precision=0.0, recall=0.0, fmeasure=0.0)}\n",
      "{'rouge1': Score(precision=0.3333333333333333, recall=0.06666666666666667, fmeasure=0.1111111111111111)}\n",
      "{'rouge1': Score(precision=0.0, recall=0.0, fmeasure=0.0)}\n",
      "{'rouge1': Score(precision=0.3333333333333333, recall=0.2, fmeasure=0.25)}\n",
      "{'rouge1': Score(precision=0.3333333333333333, recall=0.1, fmeasure=0.15384615384615383)}\n",
      "{'rouge1': Score(precision=0.3333333333333333, recall=0.125, fmeasure=0.18181818181818182)}\n",
      "{'rouge1': Score(precision=0.3333333333333333, recall=0.125, fmeasure=0.18181818181818182)}\n",
      "{'rouge1': Score(precision=0.0, recall=0.0, fmeasure=0.0)}\n",
      "{'rouge1': Score(precision=0.0, recall=0.0, fmeasure=0.0)}\n",
      "{'rouge1': Score(precision=0.3333333333333333, recall=0.08333333333333333, fmeasure=0.13333333333333333)}\n",
      "{'rouge1': Score(precision=0.0, recall=0.0, fmeasure=0.0)}\n"
     ]
    }
   ],
   "source": [
    "def main():\n",
    "    input_pair = read_input()\n",
    "    scoring(input_pair)\n",
    "\n",
    "\n",
    "if __name__ == \"__main__\":\n",
    "    main()"
   ]
  }
 ],
 "metadata": {
  "kernelspec": {
   "display_name": "Python 3 (ipykernel)",
   "language": "python",
   "name": "python3"
  },
  "language_info": {
   "codemirror_mode": {
    "name": "ipython",
    "version": 3
   },
   "file_extension": ".py",
   "mimetype": "text/x-python",
   "name": "python",
   "nbconvert_exporter": "python",
   "pygments_lexer": "ipython3",
   "version": "3.10.4"
  }
 },
 "nbformat": 4,
 "nbformat_minor": 5
}