{
 "cells": [
  {
   "cell_type": "markdown",
   "id": "6bfa7432",
   "metadata": {},
   "source": [
    "PART ONE:EXTRACT NEWS DATA FROM THE DATASET\n",
    "\n",
    "\n",
    "    Objective:The goal of this milestone is to extract the news data from the dataset, apply standard text cleaning process and separate out training and target variables."
   ]
  },
  {
   "cell_type": "markdown",
   "id": "eb5ca122",
   "metadata": {},
   "source": [
    "WORKFLOW:\n",
    "\n",
    "Step One\n",
    "\n",
    "    Import necessary modules"
   ]
  },
  {
   "cell_type": "code",
   "execution_count": 1,
   "id": "515a1db4",
   "metadata": {},
   "outputs": [],
   "source": [
    "from __future__ import unicode_literals, print_function, division\n",
    "\n",
    "import glob\n",
    "import json\n",
    "import re\n",
    "\n",
    "import matplotlib.pyplot as plt\n",
    "import numpy as np\n",
    "import pandas as pd\n",
    "from nltk.corpus import stopwords"
   ]
  },
  {
   "cell_type": "markdown",
   "id": "454142de",
   "metadata": {},
   "source": [
    "Step Two\n",
    "\n",
    "    Define some necessary constants"
   ]
  },
  {
   "cell_type": "code",
   "execution_count": 2,
   "id": "e0e26f3e",
   "metadata": {},
   "outputs": [],
   "source": [
    "stop_words = stopwords.words('english')\n",
    "contraction_map = {\"ain't\": \"is not\", \"aren't\": \"are not\", \"can't\": \"cannot\", \"'cause\": \"because\",\n",
    "                   \"could've\": \"could have\", \"couldn't\": \"could not\",\n",
    "\n",
    "                   \"didn't\": \"did not\", \"doesn't\": \"does not\", \"don't\": \"do not\", \"hadn't\": \"had not\",\n",
    "                   \"hasn't\": \"has not\", \"haven't\": \"have not\",\n",
    "\n",
    "                   \"he'd\": \"he would\", \"he'll\": \"he will\", \"he's\": \"he is\", \"how'd\": \"how did\", \"how'd'y\": \"how do you\",\n",
    "                   \"how'll\": \"how will\", \"how's\": \"how is\",\n",
    "\n",
    "                   \"I'd\": \"I would\", \"I'd've\": \"I would have\", \"I'll\": \"I will\", \"I'll've\": \"I will have\",\n",
    "                   \"I'm\": \"I am\", \"I've\": \"I have\", \"i'd\": \"i would\",\n",
    "\n",
    "                   \"i'd've\": \"i would have\", \"i'll\": \"i will\", \"i'll've\": \"i will have\", \"i'm\": \"i am\",\n",
    "                   \"i've\": \"i have\", \"isn't\": \"is not\", \"it'd\": \"it would\",\n",
    "\n",
    "                   \"it'd've\": \"it would have\", \"it'll\": \"it will\", \"it'll've\": \"it will have\", \"it's\": \"it is\",\n",
    "                   \"let's\": \"let us\", \"ma'am\": \"madam\",\n",
    "\n",
    "                   \"mayn't\": \"may not\", \"might've\": \"might have\", \"mightn't\": \"might not\",\n",
    "                   \"mightn't've\": \"might not have\", \"must've\": \"must have\",\n",
    "\n",
    "                   \"mustn't\": \"must not\", \"mustn't've\": \"must not have\", \"needn't\": \"need not\",\n",
    "                   \"needn't've\": \"need not have\", \"o'clock\": \"of the clock\",\n",
    "\n",
    "                   \"oughtn't\": \"ought not\", \"oughtn't've\": \"ought not have\", \"shan't\": \"shall not\",\n",
    "                   \"sha'n't\": \"shall not\", \"shan't've\": \"shall not have\",\n",
    "\n",
    "                   \"she'd\": \"she would\", \"she'd've\": \"she would have\", \"she'll\": \"she will\",\n",
    "                   \"she'll've\": \"she will have\", \"she's\": \"she is\",\n",
    "\n",
    "                   \"should've\": \"should have\", \"shouldn't\": \"should not\", \"shouldn't've\": \"should not have\",\n",
    "                   \"so've\": \"so have\", \"so's\": \"so as\",\n",
    "\n",
    "                   \"this's\": \"this is\", \"that'd\": \"that would\", \"that'd've\": \"that would have\", \"that's\": \"that is\",\n",
    "                   \"there'd\": \"there would\",\n",
    "\n",
    "                   \"there'd've\": \"there would have\", \"there's\": \"there is\", \"here's\": \"here is\", \"they'd\": \"they would\",\n",
    "                   \"they'd've\": \"they would have\",\n",
    "\n",
    "                   \"they'll\": \"they will\", \"they'll've\": \"they will have\", \"they're\": \"they are\",\n",
    "                   \"they've\": \"they have\", \"to've\": \"to have\",\n",
    "\n",
    "                   \"wasn't\": \"was not\", \"we'd\": \"we would\", \"we'd've\": \"we would have\", \"we'll\": \"we will\",\n",
    "                   \"we'll've\": \"we will have\", \"we're\": \"we are\",\n",
    "\n",
    "                   \"we've\": \"we have\", \"weren't\": \"were not\", \"what'll\": \"what will\", \"what'll've\": \"what will have\",\n",
    "                   \"what're\": \"what are\",\n",
    "\n",
    "                   \"what's\": \"what is\", \"what've\": \"what have\", \"when's\": \"when is\", \"when've\": \"when have\",\n",
    "                   \"where'd\": \"where did\", \"where's\": \"where is\",\n",
    "\n",
    "                   \"where've\": \"where have\", \"who'll\": \"who will\", \"who'll've\": \"who will have\", \"who's\": \"who is\",\n",
    "                   \"who've\": \"who have\",\n",
    "\n",
    "                   \"why's\": \"why is\", \"why've\": \"why have\", \"will've\": \"will have\", \"won't\": \"will not\",\n",
    "                   \"won't've\": \"will not have\",\n",
    "\n",
    "                   \"would've\": \"would have\", \"wouldn't\": \"would not\", \"wouldn't've\": \"would not have\",\n",
    "                   \"y'all\": \"you all\",\n",
    "\n",
    "                   \"y'all'd\": \"you all would\", \"y'all'd've\": \"you all would have\", \"y'all're\": \"you all are\",\n",
    "                   \"y'all've\": \"you all have\",\n",
    "\n",
    "                   \"you'd\": \"you would\", \"you'd've\": \"you would have\", \"you'll\": \"you will\",\n",
    "                   \"you'll've\": \"you will have\",\n",
    "\n",
    "                   \"you're\": \"you are\", \"you've\": \"you have\"}\n",
    "SOS_token = 0\n",
    "EOS_token = 1"
   ]
  },
  {
   "cell_type": "markdown",
   "id": "fc2788df",
   "metadata": {},
   "source": [
    "Step Three\n",
    "\n",
    "    Define a function preprocess(text) that cleans the input string. Specifically, it does the following things:\n",
    "    1.Convert text to lowercase\n",
    "    2.Split the text using Python split() function\n",
    "    3.Apply the contraction hashmap on all the words of the text\n",
    "    4.Remove the stopwords that are in English\n",
    "    5.Remove 's. \n",
    "    6.Use regular expression to remove parentheses outside a word. \n",
    "    7.Use regular expression to remove punctuations\n",
    "    8.Use regular expression to add a space character before and after the full stop.\n",
    "    Call the preprocess(text) function for all the items of dataset and target. Store the results in X and Y respectively.At this point, the length of X and Y should both be 94403."
   ]
  },
  {
   "cell_type": "code",
   "execution_count": 3,
   "id": "7a63b7d3",
   "metadata": {},
   "outputs": [],
   "source": [
    "def preprocess(text):\n",
    "    text = text.lower()\n",
    "    text = text.split()\n",
    "    for i in range(len(text)):\n",
    "        word = text[i]\n",
    "        if word in contraction_map:\n",
    "            text[i] = contraction_map[word]\n",
    "    text = \" \".join(text)\n",
    "    text = text.split()\n",
    "    new_text = [useful for useful in text if useful not in stop_words]\n",
    "    text = \" \".join(new_text)\n",
    "    text = text.replace(\"'s\", '').replace(\"’s\", '')  # convert your's -> your\n",
    "    text = re.sub(r'\\(|\\)', '', text)  # remove (words)\n",
    "    text = re.sub(r'[^a-zA-Z0-9. ]', '', text)  # remove punctuations\n",
    "    text = re.sub(r'\\.', ' . ', text)\n",
    "    return text"
   ]
  },
  {
   "cell_type": "markdown",
   "id": "f0c0cdc3",
   "metadata": {},
   "source": [
    "Step Four\n",
    "    \n",
    "    define a class Lang which inclues some functions as below:\n",
    "    1.Create a hashmap word2index that keeps track of when each word first appeared in the text. This is for both the X and Y.\n",
    "    2.Create a hashmap index2word to keep track of which index is which word.\n",
    "    3.Create a separate hashmap word2count to count the number of occurrences of each word. We will need this later to replace rare words.\n",
    "    4.Mark the start of the sentence and end of the sentence for all of the sentences in the target list. Define SOS_token = 0 and EOS_token = 1"
   ]
  },
  {
   "cell_type": "code",
   "execution_count": 4,
   "id": "13f6c279",
   "metadata": {},
   "outputs": [],
   "source": [
    "class Lang:\n",
    "    def __init__(self, name):\n",
    "        self.name = name\n",
    "        self.word2index = {}\n",
    "        self.word2count = {}\n",
    "        self.index2word = {0: \"SOS\", 1: \"EOS\"}\n",
    "        self.n_words = 2  # Count SOS and EOS\n",
    "\n",
    "    def addSentence(self, sentence):\n",
    "        for word in sentence.split():\n",
    "            self.addWord(word)\n",
    "\n",
    "    def addWord(self, word):\n",
    "        if word not in self.word2index:\n",
    "            self.word2index[word] = self.n_words\n",
    "            self.word2count[word] = 1\n",
    "            self.index2word[self.n_words] = word\n",
    "            self.n_words += 1\n",
    "        else:\n",
    "            self.word2count[word] += 1"
   ]
  },
  {
   "cell_type": "markdown",
   "id": "7fa6ee57",
   "metadata": {},
   "source": [
    "Step Five\n",
    "\n",
    "    In this function, we define two variables -- max_len_text = 600 and max_len_target = 30 and disregard any input beyond this length."
   ]
  },
  {
   "cell_type": "code",
   "execution_count": 5,
   "id": "29ee8549",
   "metadata": {},
   "outputs": [],
   "source": [
    "# disregard any input beyond the length\n",
    "def select_short(dataset, target, max_len_text=600, max_len_target=30):\n",
    "    short_text = []\n",
    "    short_summary = []\n",
    "    for i in range(len(dataset)):\n",
    "        if (len(target[i].split()) <= max_len_target and len(dataset[i].split()) <= max_len_text):\n",
    "            short_text.append(dataset[i])\n",
    "            short_summary.append(target[i])\n",
    "    return pd.DataFrame({'text': short_text, 'summary': short_summary})"
   ]
  },
  {
   "cell_type": "markdown",
   "id": "1201ba61",
   "metadata": {},
   "source": [
    "Step Six\n",
    "\n",
    "    Define a function readData(text, summary) that takes text and summary as input. Here text and summary are two lists of strings. When we call this readData function, we will call it with our cleaned data X and Y respectively. This function does the following operations:\n",
    "    1.Creates a list from text and summary as in pairs = [[text[i],summary[i]] for i in range(len(text))]\n",
    "    2.Creates input and output object by passing text and summary to the Lang class Note that we are only creating objects here. Not executing any other functions from the Lang class.\n",
    "    3.Return input, output, pairs"
   ]
  },
  {
   "cell_type": "code",
   "execution_count": 6,
   "id": "59f71234",
   "metadata": {},
   "outputs": [],
   "source": [
    "def readData(text, summary):\n",
    "    print(\"Reading lines...\")\n",
    "    # Split every line into pairs and normalize\n",
    "    pairs = [[text[i], summary[i]] for i in range(len(text))]\n",
    "    input_lang = Lang(text)\n",
    "    output_lang = Lang(summary)\n",
    "    return input_lang, output_lang, pairs"
   ]
  },
  {
   "cell_type": "markdown",
   "id": "4875db0a",
   "metadata": {},
   "source": [
    "Step Seven\n",
    "\n",
    "    Now we define a function prepareData that takes list(df['text']) and list(df['summary']) as input. This prepareData function calls readData(X,Y) and gets back input, output, and pairs."
   ]
  },
  {
   "cell_type": "code",
   "execution_count": 7,
   "id": "48968836",
   "metadata": {},
   "outputs": [],
   "source": [
    "def prepareData(lang1, lang2):\n",
    "    input_lang, output_lang, pairs = readData(lang1, lang2)\n",
    "    print(\"Read %s sentence pairs\" % len(pairs))\n",
    "    print(\"Counting words...\")\n",
    "    for pair in pairs:\n",
    "        input_lang.addSentence(pair[0])\n",
    "        output_lang.addSentence(pair[1])\n",
    "    return input_lang, output_lang, pairs"
   ]
  },
  {
   "cell_type": "markdown",
   "id": "a3b02436",
   "metadata": {},
   "source": [
    "Step Eight\n",
    "\n",
    "    Finally we come to the main function."
   ]
  },
  {
   "cell_type": "code",
   "execution_count": 8,
   "id": "ec1032d5",
   "metadata": {},
   "outputs": [
    {
     "name": "stdout",
     "output_type": "stream",
     "text": [
      "len(dataset)=94403, len(target)=94403\n",
      "len(X)=94403, len(Y)=94403\n",
      "Max number of words of string in X: 11721\n",
      "Ratio of string in Y with words no more than 600: 0.8595171763609207\n"
     ]
    },
    {
     "data": {
      "text/plain": "<Figure size 432x288 with 1 Axes>",
      "image/png": "[encoded data removed]"
     },
     "metadata": {
      "needs_background": "light"
     },
     "output_type": "display_data"
    },
    {
     "name": "stdout",
     "output_type": "stream",
     "text": [
      "Max number of words of string in Y: 228\n",
      "Ratio of string in Y with words no more than 30: 0.9998305138607884\n"
     ]
    },
    {
     "data": {
      "text/plain": "<Figure size 432x288 with 1 Axes>",
      "image/png": "[encoded data removed]"
     },
     "metadata": {
      "needs_background": "light"
     },
     "output_type": "display_data"
    },
    {
     "name": "stdout",
     "output_type": "stream",
     "text": [
      "Ratio of X, Y pairs with X words no more than 600 and Y words no more than 30: 0.8593582831054097\n",
      "temp_df.head()=                                                text  \\\n",
      "0  fda launches app health care professionals rep...   \n",
      "1  regina yan  many traits open mind might one va...   \n",
      "2  cure id app allows clinicians share discuss ex...   \n",
      "3  dsb composed representatives two fda centers e...   \n",
      "4  centre health protection chp department health...   \n",
      "\n",
      "                                             summary  \n",
      "0  fda launches app health care professionals rep...  \n",
      "1                           csuite awards regina yan  \n",
      "2  fda launches infectious disease crowdsourcing ...  \n",
      "3                        drug safety oversight board  \n",
      "4                       suspected mers case reported  \n",
      "Reading lines...\n",
      "Read 78519 sentence pairs\n",
      "Counting words...\n",
      "78519\n"
     ]
    }
   ],
   "source": [
    "def main():\n",
    "    # Read reference files, extract the value of the text key and title key from those objects.\n",
    "    # Put those values in a list called dataset and target respectively. The length of the list and will be 94403.\n",
    "    dataset, target, json_content = [], [], []\n",
    "    for file_name in glob.glob('*.json', recursive=True):\n",
    "        with open(file_name, encoding=\"utf-8\") as f:\n",
    "            json_content.extend(list(map(json.loads, f.readlines())))\n",
    "    for item in json_content:\n",
    "        dataset.append(item[\"text\"])\n",
    "        target.append(item[\"title\"])\n",
    "    print(f\"{len(dataset)=}, {len(target)=}\")\n",
    "    X = list(map(preprocess, dataset))\n",
    "    Y = list(map(preprocess, target))\n",
    "    print(f\"{len(X)=}, {len(Y)=}\")\n",
    "\n",
    "    # The following code calculate and plot the distribution of lengths in dataset and target.\n",
    "    # The result shows that 85.95% of texts is no longer than 600 and 99.98% of titles is no longer than 30.\n",
    "    # The items that satisfy both conditions above count up to 85.94%\n",
    "    X_n_word = np.array([len(i.split()) for i in X])\n",
    "    print(f\"Max number of words of string in X: {np.max(X_n_word)}\\n\"\n",
    "          f\"Ratio of string in Y with words no more than 600: {X_n_word[X_n_word <= 600].shape[0] / X_n_word.shape[0]}\")\n",
    "    plt.hist(X_n_word, bins=[0, 200, 400, 600, 800, 1000, 1200, 1400, 1600, 1800, 12000])\n",
    "    plt.title(\"words of each string in X\")\n",
    "    plt.savefig(\"X.png\")\n",
    "    plt.show()\n",
    "    Y_n_word = np.array([len(i.split()) for i in Y])\n",
    "    print(f\"Max number of words of string in Y: {np.max(Y_n_word)}\\n\"\n",
    "          f\"Ratio of string in Y with words no more than 30: {Y_n_word[Y_n_word <= 30].shape[0] / Y_n_word.shape[0]}\")\n",
    "    plt.hist(Y_n_word, bins=[0, 10, 20, 30, 40, 50, 60, 70, 80, 90, 230])\n",
    "    plt.title(\"words of each string in Y\")\n",
    "    plt.savefig(\"Y.png\")\n",
    "    plt.show()\n",
    "    print(f\"Ratio of X, Y pairs with X words no more than 600 and Y words no more than 30: \"\n",
    "          f\"{Y_n_word[(Y_n_word <= 30) & (X_n_word <= 600)].shape[0] / Y_n_word.shape[0]}\")\n",
    "\n",
    "    temp_df = select_short(X, Y)\n",
    "    print(f\"{temp_df.head()=}\")\n",
    "    # We need to remove those empty strings both from summary and the text column.\n",
    "    new_df = temp_df[temp_df['summary'].str.strip().astype(bool)]\n",
    "    df = new_df[new_df['text'].str.strip().astype(bool)]\n",
    "    df.to_csv(\"skimmed_news.csv\", index=False, encoding=\"utf-8\")\n",
    "\n",
    "    # df = pd.read_csv(\"skimmed_news.csv\", encoding=\"utf-8\")\n",
    "    input_lang, output_lang, pairs = prepareData(list(df['text']), list(df['summary']))\n",
    "    print(len(pairs))\n",
    "\n",
    "\n",
    "if __name__ == \"__main__\":\n",
    "    main()"
   ]
  }
 ],
 "metadata": {
  "kernelspec": {
   "display_name": "Python 3 (ipykernel)",
   "language": "python",
   "name": "python3"
  },
  "language_info": {
   "codemirror_mode": {
    "name": "ipython",
    "version": 3
   },
   "file_extension": ".py",
   "mimetype": "text/x-python",
   "name": "python",
   "nbconvert_exporter": "python",
   "pygments_lexer": "ipython3",
   "version": "3.10.4"
  }
 },
 "nbformat": 4,
 "nbformat_minor": 5
}